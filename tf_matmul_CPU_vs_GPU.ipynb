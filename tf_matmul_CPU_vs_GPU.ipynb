{
  "nbformat": 4,
  "nbformat_minor": 0,
  "metadata": {
    "colab": {
      "name": "tf.matmul CPU vs GPU",
      "provenance": [],
      "authorship_tag": "ABX9TyPvYziLhCBm9OOpp44Gs3Vk",
      "include_colab_link": true
    },
    "kernelspec": {
      "name": "python3",
      "display_name": "Python 3"
    },
    "accelerator": "GPU"
  },
  "cells": [
    {
      "cell_type": "markdown",
      "metadata": {
        "id": "view-in-github",
        "colab_type": "text"
      },
      "source": [
        "<a href=\"https://colab.research.google.com/github/praveenchandiran/tf_basics/blob/master/tf_matmul_CPU_vs_GPU.ipynb\" target=\"_parent\"><img src=\"https://colab.research.google.com/assets/colab-badge.svg\" alt=\"Open In Colab\"/></a>"
      ]
    },
    {
      "cell_type": "code",
      "metadata": {
        "id": "nk5-VCKDnfNM",
        "colab_type": "code",
        "outputId": "603b9344-3c93-48a2-ebc0-b587f7818cb9",
        "colab": {
          "base_uri": "https://localhost:8080/",
          "height": 34
        }
      },
      "source": [
        "import numpy as np\n",
        "import tensorflow as tf\n",
        "import timeit\n",
        "\n",
        "print(\"GPUs Name: \", tf.config.experimental.list_physical_devices('GPU'))"
      ],
      "execution_count": 0,
      "outputs": [
        {
          "output_type": "stream",
          "text": [
            "GPUs Name:  [PhysicalDevice(name='/physical_device:GPU:0', device_type='GPU')]\n"
          ],
          "name": "stdout"
        }
      ]
    },
    {
      "cell_type": "code",
      "metadata": {
        "id": "Hqx2hMCLnq_T",
        "colab_type": "code",
        "colab": {}
      },
      "source": [
        "tf.debugging.set_log_device_placement(True)\n",
        "\n",
        "def cpu_matmul():\n",
        "  with tf.device('/CPU:0'):\n",
        "    a = np.random.rand(2000,2000)\n",
        "    b = np.random.rand(2000,2000)\n",
        "    tf.matmul(a,b)\n",
        "\n",
        "def gpu_matmul():\n",
        "  with tf.device('/GPU:0'):\n",
        "    a = np.random.rand(2000,2000)\n",
        "    b = np.random.rand(2000,2000)\n",
        "    tf.matmul(a,b)\n"
      ],
      "execution_count": 0,
      "outputs": []
    },
    {
      "cell_type": "code",
      "metadata": {
        "id": "rIwGSilolXZc",
        "colab_type": "code",
        "outputId": "785c4068-20ae-4d24-e593-7840fb9fec7a",
        "colab": {
          "base_uri": "https://localhost:8080/",
          "height": 85
        }
      },
      "source": [
        "cpu_time = timeit.timeit('cpu_matmul()', number=10, setup=\"from __main__ import cpu_matmul\")\n",
        "print(cpu_time)\n",
        "gpu_time = timeit.timeit('gpu_matmul()', number=10, setup=\"from __main__ import gpu_matmul\")\n",
        "print(gpu_time)"
      ],
      "execution_count": 0,
      "outputs": [
        {
          "output_type": "stream",
          "text": [
            "Executing op MatMul in device /job:localhost/replica:0/task:0/device:CPU:0\n",
            "11.700286891000019\n",
            "Executing op MatMul in device /job:localhost/replica:0/task:0/device:GPU:0\n",
            "2.176700264000033\n"
          ],
          "name": "stdout"
        }
      ]
    }
  ]
}